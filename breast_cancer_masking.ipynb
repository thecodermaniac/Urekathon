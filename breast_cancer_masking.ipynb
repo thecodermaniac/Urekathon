{
  "nbformat": 4,
  "nbformat_minor": 0,
  "metadata": {
    "colab": {
      "name": "breast_cancer_masking.ipynb",
      "provenance": []
    },
    "kernelspec": {
      "name": "python3",
      "display_name": "Python 3"
    },
    "language_info": {
      "name": "python"
    },
    "accelerator": "GPU"
  },
  "cells": [
    {
      "cell_type": "code",
      "source": [
        "from google.colab import drive\n",
        "drive.mount('/content/drive')"
      ],
      "metadata": {
        "colab": {
          "base_uri": "https://localhost:8080/"
        },
        "id": "bdmjIG4Xuww6",
        "outputId": "215623c0-e451-44d1-80a0-9052c0a0e307"
      },
      "execution_count": null,
      "outputs": [
        {
          "output_type": "stream",
          "name": "stdout",
          "text": [
            "Drive already mounted at /content/drive; to attempt to forcibly remount, call drive.mount(\"/content/drive\", force_remount=True).\n"
          ]
        }
      ]
    },
    {
      "cell_type": "code",
      "source": [
        "import os\n",
        "import cv2\n",
        "import matplotlib.pyplot as plt\n",
        "import tensorflow as tf\n",
        "import keras\n",
        "import numpy as np"
      ],
      "metadata": {
        "id": "vBxAnmy2y4sx"
      },
      "execution_count": null,
      "outputs": []
    },
    {
      "cell_type": "code",
      "source": [
        "imgNames[0].split(')')[0]"
      ],
      "metadata": {
        "colab": {
          "base_uri": "https://localhost:8080/",
          "height": 35
        },
        "id": "eRDA8R0EzB25",
        "outputId": "b0331014-92d1-42bf-d585-e254da459bf4"
      },
      "execution_count": null,
      "outputs": [
        {
          "output_type": "execute_result",
          "data": {
            "text/plain": [
              "'benign (10'"
            ],
            "application/vnd.google.colaboratory.intrinsic+json": {
              "type": "string"
            }
          },
          "metadata": {},
          "execution_count": 5
        }
      ]
    },
    {
      "cell_type": "code",
      "source": [
        "class_label={'malignant':0,'benign':1}"
      ],
      "metadata": {
        "id": "ViEzr0HztcTZ"
      },
      "execution_count": null,
      "outputs": []
    },
    {
      "cell_type": "code",
      "source": [
        "framObjTrain = {'img' : [],\n",
        "           'mask' : [],\n",
        "           'class':[]\n",
        "          }\n",
        "\n",
        "## defining data Loader function\n",
        "def LoadData( frameObj = None, imgPath = None, maskPath = None, shape = 256):\n",
        "    imgNames = os.listdir(imgPath)\n",
        "    \n",
        "    names = []\n",
        "    maskNames = []\n",
        "    unames = []\n",
        "    class_names=[]\n",
        "    \n",
        "    for i in range(len(imgNames)):\n",
        "        unames.append(imgNames[i].split(')')[0])\n",
        "        class_names.append(imgNames[i].split(' ')[0])\n",
        "    \n",
        "    unames = list(set(unames))\n",
        "    \n",
        "    for i in range(len(unames)):\n",
        "        names.append(unames[i]+').png')\n",
        "        maskNames.append(unames[i]+')_mask.png')\n",
        "    \n",
        "    imgAddr = imgPath + '/'\n",
        "    maskAddr = maskPath + '/'\n",
        "    \n",
        "    for i in range (len(names)):\n",
        "        img = plt.imread(imgAddr + names[i])\n",
        "        mask = plt.imread(maskAddr + maskNames[i])\n",
        "        \n",
        "        img = cv2.resize(img, (shape, shape)) \n",
        "        mask = cv2.resize(mask, (shape, shape))\n",
        "\n",
        "        \n",
        "        frameObj['img'].append(img)\n",
        "        frameObj['mask'].append(mask)\n",
        "        frameObj['class'].append(class_label[class_names[i]])\n",
        "        \n",
        "    return frameObj"
      ],
      "metadata": {
        "id": "cw-wjHBKzwsj"
      },
      "execution_count": null,
      "outputs": []
    },
    {
      "cell_type": "code",
      "source": [
        "framObjTrain = LoadData(framObjTrain, \n",
        "                    imgPath = '/content/drive/MyDrive/Colab Notebooks/Dataset_BUSI_with_GT/benign',\n",
        "                    maskPath = '/content/drive/MyDrive/Colab Notebooks/Dataset_BUSI_with_GT/benign',\n",
        "                    shape = 256)\n",
        "framObjTrain = LoadData(framObjTrain, \n",
        "                    imgPath = '/content/drive/MyDrive/Colab Notebooks/Dataset_BUSI_with_GT/malignant',\n",
        "                    maskPath = '/content/drive/MyDrive/Colab Notebooks/Dataset_BUSI_with_GT/malignant',\n",
        "                    shape = 256)\n",
        "# framObjTrain = LoadData(framObjTrain, \n",
        "#                     imgPath = '/content/drive/MyDrive/Colab Notebooks/Dataset_BUSI_with_GT/combined data',\n",
        "#                     maskPath = '/content/drive/MyDrive/Colab Notebooks/Dataset_BUSI_with_GT/combined data',\n",
        "#                     shape = 256)"
      ],
      "metadata": {
        "id": "bCvuPbZN4hTh"
      },
      "execution_count": null,
      "outputs": []
    },
    {
      "cell_type": "code",
      "source": [
        "plt.imshow(framObjTrain['img'][3])\n"
      ],
      "metadata": {
        "colab": {
          "base_uri": "https://localhost:8080/",
          "height": 286
        },
        "id": "KurvI9_G5JBq",
        "outputId": "a0ee8e43-ef98-4089-c393-574cd813e1de"
      },
      "execution_count": null,
      "outputs": [
        {
          "output_type": "execute_result",
          "data": {
            "text/plain": [
              "<matplotlib.image.AxesImage at 0x7f79807974d0>"
            ]
          },
          "metadata": {},
          "execution_count": 26
        },
        {
          "output_type": "display_data",
          "data": {
            "text/plain": [
              "<Figure size 432x288 with 1 Axes>"
            ],
            "image/png": "[encoded data removed]"
          },
          "metadata": {
            "needs_background": "light"
          }
        }
      ]
    },
    {
      "cell_type": "code",
      "source": [
        "plt.imshow(framObjTrain['mask'][3])"
      ],
      "metadata": {
        "colab": {
          "base_uri": "https://localhost:8080/",
          "height": 286
        },
        "id": "F9QCkvgm5Yy4",
        "outputId": "a6cbe488-5040-442e-9e08-cd1bd9257345"
      },
      "execution_count": null,
      "outputs": [
        {
          "output_type": "execute_result",
          "data": {
            "text/plain": [
              "<matplotlib.image.AxesImage at 0x7f7980778c90>"
            ]
          },
          "metadata": {},
          "execution_count": 27
        },
        {
          "output_type": "display_data",
          "data": {
            "text/plain": [
              "<Figure size 432x288 with 1 Axes>"
            ],
            "image/png": "[encoded data removed]"
          },
          "metadata": {
            "needs_background": "light"
          }
        }
      ]
    },
    {
      "cell_type": "code",
      "source": [
        "def Conv2dBlock(inputTensor, numFilters, kernelSize = 3, doBatchNorm = True):\n",
        "    #first Conv\n",
        "    x = tf.keras.layers.Conv2D(filters = numFilters, kernel_size = (kernelSize, kernelSize),\n",
        "                              kernel_initializer = 'he_normal', padding = 'same') (inputTensor)\n",
        "    \n",
        "    if doBatchNorm:\n",
        "        x = tf.keras.layers.BatchNormalization()(x)\n",
        "        \n",
        "    x =tf.keras.layers.Activation('relu')(x)\n",
        "    \n",
        "    #Second Conv\n",
        "    x = tf.keras.layers.Conv2D(filters = numFilters, kernel_size = (kernelSize, kernelSize),\n",
        "                              kernel_initializer = 'he_normal', padding = 'same') (x)\n",
        "    if doBatchNorm:\n",
        "        x = tf.keras.layers.BatchNormalization()(x)\n",
        "        \n",
        "    x = tf.keras.layers.Activation('relu')(x)\n",
        "    \n",
        "    return x\n",
        "\n",
        "\n",
        "# Now defining Unet \n",
        "def MakeUnetModel(inputImage, numFilters = 16, droupouts = 0.1, doBatchNorm = True):\n",
        "    # defining encoder Path\n",
        "    c1 = Conv2dBlock(inputImage, numFilters * 1, kernelSize = 3, doBatchNorm = doBatchNorm)\n",
        "    p1 = tf.keras.layers.MaxPooling2D((2,2))(c1)\n",
        "    p1 = tf.keras.layers.Dropout(droupouts)(p1)\n",
        "    \n",
        "    c2 = Conv2dBlock(p1, numFilters * 2, kernelSize = 3, doBatchNorm = doBatchNorm)\n",
        "    p2 = tf.keras.layers.MaxPooling2D((2,2))(c2)\n",
        "    p2 = tf.keras.layers.Dropout(droupouts)(p2)\n",
        "    \n",
        "    c3 = Conv2dBlock(p2, numFilters * 4, kernelSize = 3, doBatchNorm = doBatchNorm)\n",
        "    p3 = tf.keras.layers.MaxPooling2D((2,2))(c3)\n",
        "    p3 = tf.keras.layers.Dropout(droupouts)(p3)\n",
        "    \n",
        "    c4 = Conv2dBlock(p3, numFilters * 8, kernelSize = 3, doBatchNorm = doBatchNorm)\n",
        "    p4 = tf.keras.layers.MaxPooling2D((2,2))(c4)\n",
        "    p4 = tf.keras.layers.Dropout(droupouts)(p4)\n",
        "    \n",
        "    c5 = Conv2dBlock(p4, numFilters * 16, kernelSize = 3, doBatchNorm = doBatchNorm)\n",
        "    \n",
        "    # defining decoder path\n",
        "    u6 = tf.keras.layers.Conv2DTranspose(numFilters*8, (3, 3), strides = (2, 2), padding = 'same')(c5)\n",
        "    u6 = tf.keras.layers.concatenate([u6, c4])\n",
        "    u6 = tf.keras.layers.Dropout(droupouts)(u6)\n",
        "    c6 = Conv2dBlock(u6, numFilters * 8, kernelSize = 3, doBatchNorm = doBatchNorm)\n",
        "    \n",
        "    u7 = tf.keras.layers.Conv2DTranspose(numFilters*4, (3, 3), strides = (2, 2), padding = 'same')(c6)\n",
        "    \n",
        "    u7 = tf.keras.layers.concatenate([u7, c3])\n",
        "    u7 = tf.keras.layers.Dropout(droupouts)(u7)\n",
        "    c7 = Conv2dBlock(u7, numFilters * 4, kernelSize = 3, doBatchNorm = doBatchNorm)\n",
        "    \n",
        "    u8 = tf.keras.layers.Conv2DTranspose(numFilters*2, (3, 3), strides = (2, 2), padding = 'same')(c7)\n",
        "    u8 = tf.keras.layers.concatenate([u8, c2])\n",
        "    u8 = tf.keras.layers.Dropout(droupouts)(u8)\n",
        "    c8 = Conv2dBlock(u8, numFilters * 2, kernelSize = 3, doBatchNorm = doBatchNorm)\n",
        "    \n",
        "    u9 = tf.keras.layers.Conv2DTranspose(numFilters*1, (3, 3), strides = (2, 2), padding = 'same')(c8)\n",
        "    u9 = tf.keras.layers.concatenate([u9, c1])\n",
        "    u9 = tf.keras.layers.Dropout(droupouts)(u9)\n",
        "    c9 = Conv2dBlock(u9, numFilters * 1, kernelSize = 3, doBatchNorm = doBatchNorm)\n",
        "    \n",
        "    output = tf.keras.layers.Conv2D(1, (1, 1), activation = 'sigmoid')(c9)\n",
        "    model = tf.keras.Model(inputs = [inputImage], outputs = [output])\n",
        "    return model"
      ],
      "metadata": {
        "id": "DSS5nMY360rj"
      },
      "execution_count": null,
      "outputs": []
    },
    {
      "cell_type": "code",
      "source": [
        "inputs = tf.keras.layers.Input((256, 256, 3))\n",
        "myTransformer = MakeUnetModel(inputs, droupouts= 0.07)\n",
        "myTransformer.compile(optimizer = 'Adam', loss = 'binary_crossentropy', metrics = ['accuracy'] )"
      ],
      "metadata": {
        "id": "QdKbtM928poH"
      },
      "execution_count": null,
      "outputs": []
    },
    {
      "cell_type": "code",
      "source": [
        "filepath = '/content/drive/MyDrive/Colab Notebooks/Dataset_BUSI_with_GT/best_breast_cancer_model.hdf5'"
      ],
      "metadata": {
        "id": "O4sYRD9a886X"
      },
      "execution_count": null,
      "outputs": []
    },
    {
      "cell_type": "code",
      "source": [
        "from tensorflow.keras.callbacks import (ModelCheckpoint, LearningRateScheduler,\n",
        "                             EarlyStopping, ReduceLROnPlateau,CSVLogger)\n",
        "\n",
        "epochs = 30; batch_size = 32\n",
        "checkpoint = ModelCheckpoint(filepath=filepath, monitor='val_accuracy', verbose=1, \n",
        "                             save_best_only=True)\n",
        "reduceLROnPlat = ReduceLROnPlateau(monitor='val_loss', factor=0.5, patience=5, \n",
        "                                   verbose=1, epsilon=0.0001)\n",
        "early = EarlyStopping(monitor=\"val_accuracy\", verbose=1,\n",
        "                      patience=5)"
      ],
      "metadata": {
        "colab": {
          "base_uri": "https://localhost:8080/"
        },
        "id": "8TBeQn8q9LA6",
        "outputId": "ebee8ebe-bf70-425f-ab5c-e725e04b66ad"
      },
      "execution_count": null,
      "outputs": [
        {
          "output_type": "stream",
          "name": "stdout",
          "text": [
            "WARNING:tensorflow:`epsilon` argument is deprecated and will be removed, use `min_delta` instead.\n"
          ]
        }
      ]
    },
    {
      "cell_type": "code",
      "source": [
        "callbacks = [checkpoint, reduceLROnPlat, early]"
      ],
      "metadata": {
        "id": "DnDXrKkj9wuB"
      },
      "execution_count": null,
      "outputs": []
    },
    {
      "cell_type": "code",
      "source": [
        "retVal = myTransformer.fit(np.array(framObjTrain['img']), np.array(framObjTrain['mask']), epochs = 30, verbose = 1, callbacks=callbacks)"
      ],
      "metadata": {
        "colab": {
          "base_uri": "https://localhost:8080/"
        },
        "id": "R9x2Xklu9z5g",
        "outputId": "7000b4c1-2e75-46ba-8c4e-f104f88d857d"
      },
      "execution_count": null,
      "outputs": [
        {
          "output_type": "stream",
          "name": "stdout",
          "text": [
            "Epoch 1/30\n",
            "21/21 [==============================] - ETA: 0s - loss: 0.5660 - accuracy: 0.7790WARNING:tensorflow:Can save best model only with val_accuracy available, skipping.\n",
            "WARNING:tensorflow:Learning rate reduction is conditioned on metric `val_loss` which is not available. Available metrics are: loss,accuracy,lr\n",
            "WARNING:tensorflow:Early stopping conditioned on metric `val_accuracy` which is not available. Available metrics are: loss,accuracy,lr\n",
            "21/21 [==============================] - 26s 426ms/step - loss: 0.5660 - accuracy: 0.7790 - lr: 0.0010\n",
            "Epoch 2/30\n",
            "21/21 [==============================] - ETA: 0s - loss: 0.4036 - accuracy: 0.9094WARNING:tensorflow:Can save best model only with val_accuracy available, skipping.\n",
            "WARNING:tensorflow:Learning rate reduction is conditioned on metric `val_loss` which is not available. Available metrics are: loss,accuracy,lr\n",
            "WARNING:tensorflow:Early stopping conditioned on metric `val_accuracy` which is not available. Available metrics are: loss,accuracy,lr\n",
            "21/21 [==============================] - 7s 339ms/step - loss: 0.4036 - accuracy: 0.9094 - lr: 0.0010\n",
            "Epoch 3/30\n",
            "21/21 [==============================] - ETA: 0s - loss: 0.3669 - accuracy: 0.9130WARNING:tensorflow:Can save best model only with val_accuracy available, skipping.\n",
            "WARNING:tensorflow:Learning rate reduction is conditioned on metric `val_loss` which is not available. Available metrics are: loss,accuracy,lr\n",
            "WARNING:tensorflow:Early stopping conditioned on metric `val_accuracy` which is not available. Available metrics are: loss,accuracy,lr\n",
            "21/21 [==============================] - 7s 341ms/step - loss: 0.3669 - accuracy: 0.9130 - lr: 0.0010\n",
            "Epoch 4/30\n",
            "21/21 [==============================] - ETA: 0s - loss: 0.3457 - accuracy: 0.9142WARNING:tensorflow:Can save best model only with val_accuracy available, skipping.\n",
            "WARNING:tensorflow:Learning rate reduction is conditioned on metric `val_loss` which is not available. Available metrics are: loss,accuracy,lr\n",
            "WARNING:tensorflow:Early stopping conditioned on metric `val_accuracy` which is not available. Available metrics are: loss,accuracy,lr\n",
            "21/21 [==============================] - 7s 342ms/step - loss: 0.3457 - accuracy: 0.9142 - lr: 0.0010\n",
            "Epoch 5/30\n",
            "21/21 [==============================] - ETA: 0s - loss: 0.3261 - accuracy: 0.9155WARNING:tensorflow:Can save best model only with val_accuracy available, skipping.\n",
            "WARNING:tensorflow:Learning rate reduction is conditioned on metric `val_loss` which is not available. Available metrics are: loss,accuracy,lr\n",
            "WARNING:tensorflow:Early stopping conditioned on metric `val_accuracy` which is not available. Available metrics are: loss,accuracy,lr\n",
            "21/21 [==============================] - 7s 343ms/step - loss: 0.3261 - accuracy: 0.9155 - lr: 0.0010\n",
            "Epoch 6/30\n",
            "21/21 [==============================] - ETA: 0s - loss: 0.2971 - accuracy: 0.9201WARNING:tensorflow:Can save best model only with val_accuracy available, skipping.\n",
            "WARNING:tensorflow:Learning rate reduction is conditioned on metric `val_loss` which is not available. Available metrics are: loss,accuracy,lr\n",
            "WARNING:tensorflow:Early stopping conditioned on metric `val_accuracy` which is not available. Available metrics are: loss,accuracy,lr\n",
            "21/21 [==============================] - 7s 345ms/step - loss: 0.2971 - accuracy: 0.9201 - lr: 0.0010\n",
            "Epoch 7/30\n",
            "21/21 [==============================] - ETA: 0s - loss: 0.2678 - accuracy: 0.9282WARNING:tensorflow:Can save best model only with val_accuracy available, skipping.\n",
            "WARNING:tensorflow:Learning rate reduction is conditioned on metric `val_loss` which is not available. Available metrics are: loss,accuracy,lr\n",
            "WARNING:tensorflow:Early stopping conditioned on metric `val_accuracy` which is not available. Available metrics are: loss,accuracy,lr\n",
            "21/21 [==============================] - 7s 346ms/step - loss: 0.2678 - accuracy: 0.9282 - lr: 0.0010\n",
            "Epoch 8/30\n",
            "21/21 [==============================] - ETA: 0s - loss: 0.2514 - accuracy: 0.9304WARNING:tensorflow:Can save best model only with val_accuracy available, skipping.\n",
            "WARNING:tensorflow:Learning rate reduction is conditioned on metric `val_loss` which is not available. Available metrics are: loss,accuracy,lr\n",
            "WARNING:tensorflow:Early stopping conditioned on metric `val_accuracy` which is not available. Available metrics are: loss,accuracy,lr\n",
            "21/21 [==============================] - 7s 350ms/step - loss: 0.2514 - accuracy: 0.9304 - lr: 0.0010\n",
            "Epoch 9/30\n",
            "21/21 [==============================] - ETA: 0s - loss: 0.2346 - accuracy: 0.9319WARNING:tensorflow:Can save best model only with val_accuracy available, skipping.\n",
            "WARNING:tensorflow:Learning rate reduction is conditioned on metric `val_loss` which is not available. Available metrics are: loss,accuracy,lr\n",
            "WARNING:tensorflow:Early stopping conditioned on metric `val_accuracy` which is not available. Available metrics are: loss,accuracy,lr\n",
            "21/21 [==============================] - 7s 350ms/step - loss: 0.2346 - accuracy: 0.9319 - lr: 0.0010\n",
            "Epoch 10/30\n",
            "21/21 [==============================] - ETA: 0s - loss: 0.2168 - accuracy: 0.9368WARNING:tensorflow:Can save best model only with val_accuracy available, skipping.\n",
            "WARNING:tensorflow:Learning rate reduction is conditioned on metric `val_loss` which is not available. Available metrics are: loss,accuracy,lr\n",
            "WARNING:tensorflow:Early stopping conditioned on metric `val_accuracy` which is not available. Available metrics are: loss,accuracy,lr\n",
            "21/21 [==============================] - 7s 351ms/step - loss: 0.2168 - accuracy: 0.9368 - lr: 0.0010\n",
            "Epoch 11/30\n",
            "21/21 [==============================] - ETA: 0s - loss: 0.2010 - accuracy: 0.9412WARNING:tensorflow:Can save best model only with val_accuracy available, skipping.\n",
            "WARNING:tensorflow:Learning rate reduction is conditioned on metric `val_loss` which is not available. Available metrics are: loss,accuracy,lr\n",
            "WARNING:tensorflow:Early stopping conditioned on metric `val_accuracy` which is not available. Available metrics are: loss,accuracy,lr\n",
            "21/21 [==============================] - 7s 353ms/step - loss: 0.2010 - accuracy: 0.9412 - lr: 0.0010\n",
            "Epoch 12/30\n",
            "21/21 [==============================] - ETA: 0s - loss: 0.1946 - accuracy: 0.9416WARNING:tensorflow:Can save best model only with val_accuracy available, skipping.\n",
            "WARNING:tensorflow:Learning rate reduction is conditioned on metric `val_loss` which is not available. Available metrics are: loss,accuracy,lr\n",
            "WARNING:tensorflow:Early stopping conditioned on metric `val_accuracy` which is not available. Available metrics are: loss,accuracy,lr\n",
            "21/21 [==============================] - 7s 352ms/step - loss: 0.1946 - accuracy: 0.9416 - lr: 0.0010\n",
            "Epoch 13/30\n",
            "21/21 [==============================] - ETA: 0s - loss: 0.1841 - accuracy: 0.9429WARNING:tensorflow:Can save best model only with val_accuracy available, skipping.\n",
            "WARNING:tensorflow:Learning rate reduction is conditioned on metric `val_loss` which is not available. Available metrics are: loss,accuracy,lr\n",
            "WARNING:tensorflow:Early stopping conditioned on metric `val_accuracy` which is not available. Available metrics are: loss,accuracy,lr\n",
            "21/21 [==============================] - 7s 355ms/step - loss: 0.1841 - accuracy: 0.9429 - lr: 0.0010\n",
            "Epoch 14/30\n",
            "21/21 [==============================] - ETA: 0s - loss: 0.1700 - accuracy: 0.9473WARNING:tensorflow:Can save best model only with val_accuracy available, skipping.\n",
            "WARNING:tensorflow:Learning rate reduction is conditioned on metric `val_loss` which is not available. Available metrics are: loss,accuracy,lr\n",
            "WARNING:tensorflow:Early stopping conditioned on metric `val_accuracy` which is not available. Available metrics are: loss,accuracy,lr\n",
            "21/21 [==============================] - 7s 357ms/step - loss: 0.1700 - accuracy: 0.9473 - lr: 0.0010\n",
            "Epoch 15/30\n",
            "21/21 [==============================] - ETA: 0s - loss: 0.1668 - accuracy: 0.9465WARNING:tensorflow:Can save best model only with val_accuracy available, skipping.\n",
            "WARNING:tensorflow:Learning rate reduction is conditioned on metric `val_loss` which is not available. Available metrics are: loss,accuracy,lr\n",
            "WARNING:tensorflow:Early stopping conditioned on metric `val_accuracy` which is not available. Available metrics are: loss,accuracy,lr\n",
            "21/21 [==============================] - 8s 357ms/step - loss: 0.1668 - accuracy: 0.9465 - lr: 0.0010\n",
            "Epoch 16/30\n",
            "21/21 [==============================] - ETA: 0s - loss: 0.1530 - accuracy: 0.9514WARNING:tensorflow:Can save best model only with val_accuracy available, skipping.\n",
            "WARNING:tensorflow:Learning rate reduction is conditioned on metric `val_loss` which is not available. Available metrics are: loss,accuracy,lr\n",
            "WARNING:tensorflow:Early stopping conditioned on metric `val_accuracy` which is not available. Available metrics are: loss,accuracy,lr\n",
            "21/21 [==============================] - 8s 358ms/step - loss: 0.1530 - accuracy: 0.9514 - lr: 0.0010\n",
            "Epoch 17/30\n",
            "21/21 [==============================] - ETA: 0s - loss: 0.1562 - accuracy: 0.9492WARNING:tensorflow:Can save best model only with val_accuracy available, skipping.\n",
            "WARNING:tensorflow:Learning rate reduction is conditioned on metric `val_loss` which is not available. Available metrics are: loss,accuracy,lr\n",
            "WARNING:tensorflow:Early stopping conditioned on metric `val_accuracy` which is not available. Available metrics are: loss,accuracy,lr\n",
            "21/21 [==============================] - 8s 359ms/step - loss: 0.1562 - accuracy: 0.9492 - lr: 0.0010\n",
            "Epoch 18/30\n",
            "21/21 [==============================] - ETA: 0s - loss: 0.1522 - accuracy: 0.9496WARNING:tensorflow:Can save best model only with val_accuracy available, skipping.\n",
            "WARNING:tensorflow:Learning rate reduction is conditioned on metric `val_loss` which is not available. Available metrics are: loss,accuracy,lr\n",
            "WARNING:tensorflow:Early stopping conditioned on metric `val_accuracy` which is not available. Available metrics are: loss,accuracy,lr\n",
            "21/21 [==============================] - 8s 360ms/step - loss: 0.1522 - accuracy: 0.9496 - lr: 0.0010\n",
            "Epoch 19/30\n",
            "21/21 [==============================] - ETA: 0s - loss: 0.1394 - accuracy: 0.9537WARNING:tensorflow:Can save best model only with val_accuracy available, skipping.\n",
            "WARNING:tensorflow:Learning rate reduction is conditioned on metric `val_loss` which is not available. Available metrics are: loss,accuracy,lr\n",
            "WARNING:tensorflow:Early stopping conditioned on metric `val_accuracy` which is not available. Available metrics are: loss,accuracy,lr\n",
            "21/21 [==============================] - 8s 362ms/step - loss: 0.1394 - accuracy: 0.9537 - lr: 0.0010\n",
            "Epoch 20/30\n",
            "21/21 [==============================] - ETA: 0s - loss: 0.1319 - accuracy: 0.9559WARNING:tensorflow:Can save best model only with val_accuracy available, skipping.\n",
            "WARNING:tensorflow:Learning rate reduction is conditioned on metric `val_loss` which is not available. Available metrics are: loss,accuracy,lr\n",
            "WARNING:tensorflow:Early stopping conditioned on metric `val_accuracy` which is not available. Available metrics are: loss,accuracy,lr\n",
            "21/21 [==============================] - 8s 363ms/step - loss: 0.1319 - accuracy: 0.9559 - lr: 0.0010\n",
            "Epoch 21/30\n",
            "21/21 [==============================] - ETA: 0s - loss: 0.1313 - accuracy: 0.9543WARNING:tensorflow:Can save best model only with val_accuracy available, skipping.\n",
            "WARNING:tensorflow:Learning rate reduction is conditioned on metric `val_loss` which is not available. Available metrics are: loss,accuracy,lr\n",
            "WARNING:tensorflow:Early stopping conditioned on metric `val_accuracy` which is not available. Available metrics are: loss,accuracy,lr\n",
            "21/21 [==============================] - 8s 363ms/step - loss: 0.1313 - accuracy: 0.9543 - lr: 0.0010\n",
            "Epoch 22/30\n",
            "21/21 [==============================] - ETA: 0s - loss: 0.1318 - accuracy: 0.9540WARNING:tensorflow:Can save best model only with val_accuracy available, skipping.\n",
            "WARNING:tensorflow:Learning rate reduction is conditioned on metric `val_loss` which is not available. Available metrics are: loss,accuracy,lr\n",
            "WARNING:tensorflow:Early stopping conditioned on metric `val_accuracy` which is not available. Available metrics are: loss,accuracy,lr\n",
            "21/21 [==============================] - 8s 364ms/step - loss: 0.1318 - accuracy: 0.9540 - lr: 0.0010\n",
            "Epoch 23/30\n",
            "21/21 [==============================] - ETA: 0s - loss: 0.1287 - accuracy: 0.9541WARNING:tensorflow:Can save best model only with val_accuracy available, skipping.\n",
            "WARNING:tensorflow:Learning rate reduction is conditioned on metric `val_loss` which is not available. Available metrics are: loss,accuracy,lr\n",
            "WARNING:tensorflow:Early stopping conditioned on metric `val_accuracy` which is not available. Available metrics are: loss,accuracy,lr\n",
            "21/21 [==============================] - 8s 372ms/step - loss: 0.1287 - accuracy: 0.9541 - lr: 0.0010\n",
            "Epoch 24/30\n",
            "21/21 [==============================] - ETA: 0s - loss: 0.1221 - accuracy: 0.9563WARNING:tensorflow:Can save best model only with val_accuracy available, skipping.\n",
            "WARNING:tensorflow:Learning rate reduction is conditioned on metric `val_loss` which is not available. Available metrics are: loss,accuracy,lr\n",
            "WARNING:tensorflow:Early stopping conditioned on metric `val_accuracy` which is not available. Available metrics are: loss,accuracy,lr\n",
            "21/21 [==============================] - 8s 364ms/step - loss: 0.1221 - accuracy: 0.9563 - lr: 0.0010\n",
            "Epoch 25/30\n",
            "21/21 [==============================] - ETA: 0s - loss: 0.1166 - accuracy: 0.9585WARNING:tensorflow:Can save best model only with val_accuracy available, skipping.\n",
            "WARNING:tensorflow:Learning rate reduction is conditioned on metric `val_loss` which is not available. Available metrics are: loss,accuracy,lr\n",
            "WARNING:tensorflow:Early stopping conditioned on metric `val_accuracy` which is not available. Available metrics are: loss,accuracy,lr\n",
            "21/21 [==============================] - 8s 368ms/step - loss: 0.1166 - accuracy: 0.9585 - lr: 0.0010\n",
            "Epoch 26/30\n",
            "21/21 [==============================] - ETA: 0s - loss: 0.1141 - accuracy: 0.9589WARNING:tensorflow:Can save best model only with val_accuracy available, skipping.\n",
            "WARNING:tensorflow:Learning rate reduction is conditioned on metric `val_loss` which is not available. Available metrics are: loss,accuracy,lr\n",
            "WARNING:tensorflow:Early stopping conditioned on metric `val_accuracy` which is not available. Available metrics are: loss,accuracy,lr\n",
            "21/21 [==============================] - 8s 368ms/step - loss: 0.1141 - accuracy: 0.9589 - lr: 0.0010\n",
            "Epoch 27/30\n",
            "21/21 [==============================] - ETA: 0s - loss: 0.1216 - accuracy: 0.9560WARNING:tensorflow:Can save best model only with val_accuracy available, skipping.\n",
            "WARNING:tensorflow:Learning rate reduction is conditioned on metric `val_loss` which is not available. Available metrics are: loss,accuracy,lr\n",
            "WARNING:tensorflow:Early stopping conditioned on metric `val_accuracy` which is not available. Available metrics are: loss,accuracy,lr\n",
            "21/21 [==============================] - 8s 367ms/step - loss: 0.1216 - accuracy: 0.9560 - lr: 0.0010\n",
            "Epoch 28/30\n",
            "21/21 [==============================] - ETA: 0s - loss: 0.1033 - accuracy: 0.9624WARNING:tensorflow:Can save best model only with val_accuracy available, skipping.\n",
            "WARNING:tensorflow:Learning rate reduction is conditioned on metric `val_loss` which is not available. Available metrics are: loss,accuracy,lr\n",
            "WARNING:tensorflow:Early stopping conditioned on metric `val_accuracy` which is not available. Available metrics are: loss,accuracy,lr\n",
            "21/21 [==============================] - 8s 370ms/step - loss: 0.1033 - accuracy: 0.9624 - lr: 0.0010\n",
            "Epoch 29/30\n",
            "21/21 [==============================] - ETA: 0s - loss: 0.0991 - accuracy: 0.9632WARNING:tensorflow:Can save best model only with val_accuracy available, skipping.\n",
            "WARNING:tensorflow:Learning rate reduction is conditioned on metric `val_loss` which is not available. Available metrics are: loss,accuracy,lr\n",
            "WARNING:tensorflow:Early stopping conditioned on metric `val_accuracy` which is not available. Available metrics are: loss,accuracy,lr\n",
            "21/21 [==============================] - 8s 370ms/step - loss: 0.0991 - accuracy: 0.9632 - lr: 0.0010\n",
            "Epoch 30/30\n",
            "21/21 [==============================] - ETA: 0s - loss: 0.0963 - accuracy: 0.9649WARNING:tensorflow:Can save best model only with val_accuracy available, skipping.\n",
            "WARNING:tensorflow:Learning rate reduction is conditioned on metric `val_loss` which is not available. Available metrics are: loss,accuracy,lr\n",
            "WARNING:tensorflow:Early stopping conditioned on metric `val_accuracy` which is not available. Available metrics are: loss,accuracy,lr\n",
            "21/21 [==============================] - 8s 370ms/step - loss: 0.0963 - accuracy: 0.9649 - lr: 0.0010\n"
          ]
        }
      ]
    },
    {
      "cell_type": "code",
      "source": [
        "cancer_classifier_model=keras.models.Sequential([\n",
        "                                             keras.layers.Conv2D(filters=16,kernel_size=(7,7),strides=(3,3),activation='relu',padding='valid',input_shape=[256,256, 3]),\n",
        "                                             keras.layers.MaxPooling2D(pool_size=(2,2),strides=(2,2),padding='same'),\n",
        "                                             keras.layers.BatchNormalization(),\n",
        "                                             keras.layers.Conv2D(filters=8,kernel_size=(5,5),strides=(2,2),activation='relu',padding='valid'),\n",
        "                                             keras.layers.MaxPooling2D(pool_size=(3,3),strides=(2,2),padding='same'),\n",
        "                                             keras.layers.Flatten(),\n",
        "                                             keras.layers.Dense(300,activation='relu'),\n",
        "                                             keras.layers.Dropout(0.5),\n",
        "                                             keras.layers.BatchNormalization(),\n",
        "                                             keras.layers.Dense(100,activation='relu'),\n",
        "                                             keras.layers.Dropout(0.2),\n",
        "                                             keras.layers.BatchNormalization(),\n",
        "                                             keras.layers.Dense(10,activation='relu'),\n",
        "                                            \n",
        "                                             keras.layers.BatchNormalization(),\n",
        "                                             keras.layers.Dense(2,activation='softmax'),\n",
        "])"
      ],
      "metadata": {
        "id": "zDJ8DkgExxfL"
      },
      "execution_count": null,
      "outputs": []
    },
    {
      "cell_type": "code",
      "source": [
        "cancer_classifier_model.summary()"
      ],
      "metadata": {
        "colab": {
          "base_uri": "https://localhost:8080/"
        },
        "id": "47ilRP0zypp4",
        "outputId": "4d24469c-ad6b-48a0-f7f4-c27886555e8f"
      },
      "execution_count": null,
      "outputs": [
        {
          "output_type": "stream",
          "name": "stdout",
          "text": [
            "Model: \"sequential_3\"\n",
            "_________________________________________________________________\n",
            " Layer (type)                Output Shape              Param #   \n",
            "=================================================================\n",
            " conv2d_25 (Conv2D)          (None, 84, 84, 16)        2368      \n",
            "                                                                 \n",
            " max_pooling2d_10 (MaxPoolin  (None, 42, 42, 16)       0         \n",
            " g2D)                                                            \n",
            "                                                                 \n",
            " batch_normalization_28 (Bat  (None, 42, 42, 16)       64        \n",
            " chNormalization)                                                \n",
            "                                                                 \n",
            " conv2d_26 (Conv2D)          (None, 19, 19, 8)         3208      \n",
            "                                                                 \n",
            " max_pooling2d_11 (MaxPoolin  (None, 10, 10, 8)        0         \n",
            " g2D)                                                            \n",
            "                                                                 \n",
            " flatten_3 (Flatten)         (None, 800)               0         \n",
            "                                                                 \n",
            " dense_10 (Dense)            (None, 300)               240300    \n",
            "                                                                 \n",
            " dropout_14 (Dropout)        (None, 300)               0         \n",
            "                                                                 \n",
            " batch_normalization_29 (Bat  (None, 300)              1200      \n",
            " chNormalization)                                                \n",
            "                                                                 \n",
            " dense_11 (Dense)            (None, 100)               30100     \n",
            "                                                                 \n",
            " dropout_15 (Dropout)        (None, 100)               0         \n",
            "                                                                 \n",
            " batch_normalization_30 (Bat  (None, 100)              400       \n",
            " chNormalization)                                                \n",
            "                                                                 \n",
            " dense_12 (Dense)            (None, 10)                1010      \n",
            "                                                                 \n",
            " batch_normalization_31 (Bat  (None, 10)               40        \n",
            " chNormalization)                                                \n",
            "                                                                 \n",
            " dense_13 (Dense)            (None, 2)                 22        \n",
            "                                                                 \n",
            "=================================================================\n",
            "Total params: 278,712\n",
            "Trainable params: 277,860\n",
            "Non-trainable params: 852\n",
            "_________________________________________________________________\n"
          ]
        }
      ]
    },
    {
      "cell_type": "code",
      "source": [
        "cancer_classifier_model.compile(loss=\"sparse_categorical_crossentropy\",optimizer=\"adam\",metrics=[\"accuracy\"])\n",
        "callback_seq=keras.callbacks.ModelCheckpoint(\"/content/drive/MyDrive/Colab Notebooks/Dataset_BUSI_with_GT/cancer_classifier_model.h5\", save_best_only=True)"
      ],
      "metadata": {
        "id": "jLhATiqZ1Xmg"
      },
      "execution_count": null,
      "outputs": []
    },
    {
      "cell_type": "code",
      "source": [
        "history=cancer_classifier_model.fit(np.array(framObjTrain['img']),np.array(framObjTrain['class']),epochs=30,callbacks=[callback_seq])"
      ],
      "metadata": {
        "colab": {
          "base_uri": "https://localhost:8080/"
        },
        "id": "Uy9KK9c310pw",
        "outputId": "c4e0ed95-799b-4384-859f-63eb90a83ba3"
      },
      "execution_count": null,
      "outputs": [
        {
          "output_type": "stream",
          "name": "stdout",
          "text": [
            "Epoch 1/30\n",
            "21/21 [==============================] - ETA: 0s - loss: 0.9361 - accuracy: 0.5518WARNING:tensorflow:Can save best model only with val_loss available, skipping.\n",
            "21/21 [==============================] - 2s 23ms/step - loss: 0.9361 - accuracy: 0.5518\n",
            "Epoch 2/30\n",
            "19/21 [==========================>...] - ETA: 0s - loss: 0.7222 - accuracy: 0.6727WARNING:tensorflow:Can save best model only with val_loss available, skipping.\n",
            "21/21 [==============================] - 0s 20ms/step - loss: 0.7195 - accuracy: 0.6723\n",
            "Epoch 3/30\n",
            "19/21 [==========================>...] - ETA: 0s - loss: 0.6032 - accuracy: 0.7105WARNING:tensorflow:Can save best model only with val_loss available, skipping.\n",
            "21/21 [==============================] - 0s 20ms/step - loss: 0.5955 - accuracy: 0.7094\n",
            "Epoch 4/30\n",
            "18/21 [========================>.....] - ETA: 0s - loss: 0.5691 - accuracy: 0.7257WARNING:tensorflow:Can save best model only with val_loss available, skipping.\n",
            "21/21 [==============================] - 0s 20ms/step - loss: 0.5685 - accuracy: 0.7218\n",
            "Epoch 5/30\n",
            "19/21 [==========================>...] - ETA: 0s - loss: 0.5728 - accuracy: 0.7385WARNING:tensorflow:Can save best model only with val_loss available, skipping.\n",
            "21/21 [==============================] - 0s 19ms/step - loss: 0.5690 - accuracy: 0.7388\n",
            "Epoch 6/30\n",
            "19/21 [==========================>...] - ETA: 0s - loss: 0.5220 - accuracy: 0.7714WARNING:tensorflow:Can save best model only with val_loss available, skipping.\n",
            "21/21 [==============================] - 0s 20ms/step - loss: 0.5167 - accuracy: 0.7728\n",
            "Epoch 7/30\n",
            "19/21 [==========================>...] - ETA: 0s - loss: 0.4668 - accuracy: 0.7862WARNING:tensorflow:Can save best model only with val_loss available, skipping.\n",
            "21/21 [==============================] - 0s 20ms/step - loss: 0.4616 - accuracy: 0.7883\n",
            "Epoch 8/30\n",
            "19/21 [==========================>...] - ETA: 0s - loss: 0.4596 - accuracy: 0.7895WARNING:tensorflow:Can save best model only with val_loss available, skipping.\n",
            "21/21 [==============================] - 0s 20ms/step - loss: 0.4669 - accuracy: 0.7929\n",
            "Epoch 9/30\n",
            "19/21 [==========================>...] - ETA: 0s - loss: 0.4300 - accuracy: 0.8141WARNING:tensorflow:Can save best model only with val_loss available, skipping.\n",
            "21/21 [==============================] - 0s 20ms/step - loss: 0.4299 - accuracy: 0.8145\n",
            "Epoch 10/30\n",
            "18/21 [========================>.....] - ETA: 0s - loss: 0.4544 - accuracy: 0.8056WARNING:tensorflow:Can save best model only with val_loss available, skipping.\n",
            "21/21 [==============================] - 0s 20ms/step - loss: 0.4426 - accuracy: 0.8114\n",
            "Epoch 11/30\n",
            "18/21 [========================>.....] - ETA: 0s - loss: 0.4280 - accuracy: 0.8247WARNING:tensorflow:Can save best model only with val_loss available, skipping.\n",
            "21/21 [==============================] - 0s 20ms/step - loss: 0.4276 - accuracy: 0.8238\n",
            "Epoch 12/30\n",
            "19/21 [==========================>...] - ETA: 0s - loss: 0.3918 - accuracy: 0.8421WARNING:tensorflow:Can save best model only with val_loss available, skipping.\n",
            "21/21 [==============================] - 0s 20ms/step - loss: 0.3943 - accuracy: 0.8346\n",
            "Epoch 13/30\n",
            "19/21 [==========================>...] - ETA: 0s - loss: 0.3939 - accuracy: 0.8388WARNING:tensorflow:Can save best model only with val_loss available, skipping.\n",
            "21/21 [==============================] - 0s 20ms/step - loss: 0.4010 - accuracy: 0.8346\n",
            "Epoch 14/30\n",
            "19/21 [==========================>...] - ETA: 0s - loss: 0.3696 - accuracy: 0.8372WARNING:tensorflow:Can save best model only with val_loss available, skipping.\n",
            "21/21 [==============================] - 0s 20ms/step - loss: 0.3637 - accuracy: 0.8408\n",
            "Epoch 15/30\n",
            "19/21 [==========================>...] - ETA: 0s - loss: 0.3457 - accuracy: 0.8668WARNING:tensorflow:Can save best model only with val_loss available, skipping.\n",
            "21/21 [==============================] - 0s 21ms/step - loss: 0.3438 - accuracy: 0.8655\n",
            "Epoch 16/30\n",
            "19/21 [==========================>...] - ETA: 0s - loss: 0.3210 - accuracy: 0.8783WARNING:tensorflow:Can save best model only with val_loss available, skipping.\n",
            "21/21 [==============================] - 0s 21ms/step - loss: 0.3168 - accuracy: 0.8794\n",
            "Epoch 17/30\n",
            "19/21 [==========================>...] - ETA: 0s - loss: 0.2880 - accuracy: 0.8766WARNING:tensorflow:Can save best model only with val_loss available, skipping.\n",
            "21/21 [==============================] - 0s 21ms/step - loss: 0.2866 - accuracy: 0.8794\n",
            "Epoch 18/30\n",
            "19/21 [==========================>...] - ETA: 0s - loss: 0.2992 - accuracy: 0.8865WARNING:tensorflow:Can save best model only with val_loss available, skipping.\n",
            "21/21 [==============================] - 0s 21ms/step - loss: 0.3047 - accuracy: 0.8825\n",
            "Epoch 19/30\n",
            "19/21 [==========================>...] - ETA: 0s - loss: 0.2730 - accuracy: 0.8997WARNING:tensorflow:Can save best model only with val_loss available, skipping.\n",
            "21/21 [==============================] - 0s 21ms/step - loss: 0.2713 - accuracy: 0.8995\n",
            "Epoch 20/30\n",
            "19/21 [==========================>...] - ETA: 0s - loss: 0.2854 - accuracy: 0.8947WARNING:tensorflow:Can save best model only with val_loss available, skipping.\n",
            "21/21 [==============================] - 0s 21ms/step - loss: 0.2986 - accuracy: 0.8918\n",
            "Epoch 21/30\n",
            "19/21 [==========================>...] - ETA: 0s - loss: 0.3128 - accuracy: 0.8684WARNING:tensorflow:Can save best model only with val_loss available, skipping.\n",
            "21/21 [==============================] - 0s 20ms/step - loss: 0.3220 - accuracy: 0.8655\n",
            "Epoch 22/30\n",
            "19/21 [==========================>...] - ETA: 0s - loss: 0.2759 - accuracy: 0.8865WARNING:tensorflow:Can save best model only with val_loss available, skipping.\n",
            "21/21 [==============================] - 0s 20ms/step - loss: 0.2752 - accuracy: 0.8887\n",
            "Epoch 23/30\n",
            "19/21 [==========================>...] - ETA: 0s - loss: 0.3107 - accuracy: 0.8734WARNING:tensorflow:Can save best model only with val_loss available, skipping.\n",
            "21/21 [==============================] - 0s 20ms/step - loss: 0.2993 - accuracy: 0.8794\n",
            "Epoch 24/30\n",
            "19/21 [==========================>...] - ETA: 0s - loss: 0.2522 - accuracy: 0.9046WARNING:tensorflow:Can save best model only with val_loss available, skipping.\n",
            "21/21 [==============================] - 0s 19ms/step - loss: 0.2533 - accuracy: 0.9026\n",
            "Epoch 25/30\n",
            "19/21 [==========================>...] - ETA: 0s - loss: 0.2455 - accuracy: 0.9030WARNING:tensorflow:Can save best model only with val_loss available, skipping.\n",
            "21/21 [==============================] - 0s 20ms/step - loss: 0.2526 - accuracy: 0.9011\n",
            "Epoch 26/30\n",
            "19/21 [==========================>...] - ETA: 0s - loss: 0.2736 - accuracy: 0.8816WARNING:tensorflow:Can save best model only with val_loss available, skipping.\n",
            "21/21 [==============================] - 0s 20ms/step - loss: 0.2751 - accuracy: 0.8810\n",
            "Epoch 27/30\n",
            "21/21 [==============================] - ETA: 0s - loss: 0.2576 - accuracy: 0.9011WARNING:tensorflow:Can save best model only with val_loss available, skipping.\n",
            "21/21 [==============================] - 0s 21ms/step - loss: 0.2576 - accuracy: 0.9011\n",
            "Epoch 28/30\n",
            "19/21 [==========================>...] - ETA: 0s - loss: 0.2689 - accuracy: 0.8947WARNING:tensorflow:Can save best model only with val_loss available, skipping.\n",
            "21/21 [==============================] - 0s 19ms/step - loss: 0.2651 - accuracy: 0.8980\n",
            "Epoch 29/30\n",
            "19/21 [==========================>...] - ETA: 0s - loss: 0.2391 - accuracy: 0.9013WARNING:tensorflow:Can save best model only with val_loss available, skipping.\n",
            "21/21 [==============================] - 0s 20ms/step - loss: 0.2406 - accuracy: 0.9042\n",
            "Epoch 30/30\n",
            "19/21 [==========================>...] - ETA: 0s - loss: 0.2101 - accuracy: 0.9194WARNING:tensorflow:Can save best model only with val_loss available, skipping.\n",
            "21/21 [==============================] - 0s 19ms/step - loss: 0.2097 - accuracy: 0.9181\n"
          ]
        }
      ]
    },
    {
      "cell_type": "code",
      "source": [
        "def predict (breastImgPath, model, shape = 256):\n",
        "    ## getting and proccessing val data\n",
        "    img=plt.imread(breastImgPath)\n",
        "    img = cv2.resize(img, (shape, shape)) \n",
        "\n",
        "    imgProc = np.array(img)\n",
        "    \n",
        "    predictions = model.predict(imgProc)\n",
        "  \n",
        "\n",
        "    return predictions, imgProc"
      ],
      "metadata": {
        "id": "nezCEDxnAFmQ"
      },
      "execution_count": null,
      "outputs": []
    },
    {
      "cell_type": "code",
      "source": [
        "mask_img,actual_img=predict('/content/drive/MyDrive/Colab Notebooks/Dataset_BUSI_with_GT/malignant/malignant (1).png',myTransformer)\n",
        "plt.imshow(mask_img)"
      ],
      "metadata": {
        "colab": {
          "base_uri": "https://localhost:8080/",
          "height": 589
        },
        "id": "bj8p1hUaBJTk",
        "outputId": "d8f82374-21ea-48f8-dfd4-325595646c4c"
      },
      "execution_count": null,
      "outputs": [
        {
          "output_type": "error",
          "ename": "ValueError",
          "evalue": "ignored",
          "traceback": [
            "\u001b[0;31m---------------------------------------------------------------------------\u001b[0m",
            "\u001b[0;31mValueError\u001b[0m                                Traceback (most recent call last)",
            "\u001b[0;32m<ipython-input-22-f1790496d977>\u001b[0m in \u001b[0;36m<module>\u001b[0;34m()\u001b[0m\n\u001b[0;32m----> 1\u001b[0;31m \u001b[0mmask_img\u001b[0m\u001b[0;34m,\u001b[0m\u001b[0mactual_img\u001b[0m\u001b[0;34m=\u001b[0m\u001b[0mpredict\u001b[0m\u001b[0;34m(\u001b[0m\u001b[0;34m'/content/drive/MyDrive/Colab Notebooks/Dataset_BUSI_with_GT/malignant/malignant (1).png'\u001b[0m\u001b[0;34m,\u001b[0m\u001b[0mmyTransformer\u001b[0m\u001b[0;34m)\u001b[0m\u001b[0;34m\u001b[0m\u001b[0;34m\u001b[0m\u001b[0m\n\u001b[0m\u001b[1;32m      2\u001b[0m \u001b[0mplt\u001b[0m\u001b[0;34m.\u001b[0m\u001b[0mimshow\u001b[0m\u001b[0;34m(\u001b[0m\u001b[0mmask_img\u001b[0m\u001b[0;34m)\u001b[0m\u001b[0;34m\u001b[0m\u001b[0;34m\u001b[0m\u001b[0m\n",
            "\u001b[0;32m<ipython-input-21-5be89620fe8c>\u001b[0m in \u001b[0;36mpredict\u001b[0;34m(breastImgPath, model, shape)\u001b[0m\n\u001b[1;32m      6\u001b[0m     \u001b[0mimgProc\u001b[0m \u001b[0;34m=\u001b[0m \u001b[0mnp\u001b[0m\u001b[0;34m.\u001b[0m\u001b[0marray\u001b[0m\u001b[0;34m(\u001b[0m\u001b[0mimg\u001b[0m\u001b[0;34m)\u001b[0m\u001b[0;34m\u001b[0m\u001b[0;34m\u001b[0m\u001b[0m\n\u001b[1;32m      7\u001b[0m \u001b[0;34m\u001b[0m\u001b[0m\n\u001b[0;32m----> 8\u001b[0;31m     \u001b[0mpredictions\u001b[0m \u001b[0;34m=\u001b[0m \u001b[0mmodel\u001b[0m\u001b[0;34m.\u001b[0m\u001b[0mpredict\u001b[0m\u001b[0;34m(\u001b[0m\u001b[0mimgProc\u001b[0m\u001b[0;34m)\u001b[0m\u001b[0;34m\u001b[0m\u001b[0;34m\u001b[0m\u001b[0m\n\u001b[0m\u001b[1;32m      9\u001b[0m \u001b[0;34m\u001b[0m\u001b[0m\n\u001b[1;32m     10\u001b[0m \u001b[0;34m\u001b[0m\u001b[0m\n",
            "\u001b[0;32m/usr/local/lib/python3.7/dist-packages/keras/utils/traceback_utils.py\u001b[0m in \u001b[0;36merror_handler\u001b[0;34m(*args, **kwargs)\u001b[0m\n\u001b[1;32m     65\u001b[0m     \u001b[0;32mexcept\u001b[0m \u001b[0mException\u001b[0m \u001b[0;32mas\u001b[0m \u001b[0me\u001b[0m\u001b[0;34m:\u001b[0m  \u001b[0;31m# pylint: disable=broad-except\u001b[0m\u001b[0;34m\u001b[0m\u001b[0;34m\u001b[0m\u001b[0m\n\u001b[1;32m     66\u001b[0m       \u001b[0mfiltered_tb\u001b[0m \u001b[0;34m=\u001b[0m \u001b[0m_process_traceback_frames\u001b[0m\u001b[0;34m(\u001b[0m\u001b[0me\u001b[0m\u001b[0;34m.\u001b[0m\u001b[0m__traceback__\u001b[0m\u001b[0;34m)\u001b[0m\u001b[0;34m\u001b[0m\u001b[0;34m\u001b[0m\u001b[0m\n\u001b[0;32m---> 67\u001b[0;31m       \u001b[0;32mraise\u001b[0m \u001b[0me\u001b[0m\u001b[0;34m.\u001b[0m\u001b[0mwith_traceback\u001b[0m\u001b[0;34m(\u001b[0m\u001b[0mfiltered_tb\u001b[0m\u001b[0;34m)\u001b[0m \u001b[0;32mfrom\u001b[0m \u001b[0;32mNone\u001b[0m\u001b[0;34m\u001b[0m\u001b[0;34m\u001b[0m\u001b[0m\n\u001b[0m\u001b[1;32m     68\u001b[0m     \u001b[0;32mfinally\u001b[0m\u001b[0;34m:\u001b[0m\u001b[0;34m\u001b[0m\u001b[0;34m\u001b[0m\u001b[0m\n\u001b[1;32m     69\u001b[0m       \u001b[0;32mdel\u001b[0m \u001b[0mfiltered_tb\u001b[0m\u001b[0;34m\u001b[0m\u001b[0;34m\u001b[0m\u001b[0m\n",
            "\u001b[0;32m/usr/local/lib/python3.7/dist-packages/tensorflow/python/framework/func_graph.py\u001b[0m in \u001b[0;36mautograph_handler\u001b[0;34m(*args, **kwargs)\u001b[0m\n\u001b[1;32m   1145\u001b[0m           \u001b[0;32mexcept\u001b[0m \u001b[0mException\u001b[0m \u001b[0;32mas\u001b[0m \u001b[0me\u001b[0m\u001b[0;34m:\u001b[0m  \u001b[0;31m# pylint:disable=broad-except\u001b[0m\u001b[0;34m\u001b[0m\u001b[0;34m\u001b[0m\u001b[0m\n\u001b[1;32m   1146\u001b[0m             \u001b[0;32mif\u001b[0m \u001b[0mhasattr\u001b[0m\u001b[0;34m(\u001b[0m\u001b[0me\u001b[0m\u001b[0;34m,\u001b[0m \u001b[0;34m\"ag_error_metadata\"\u001b[0m\u001b[0;34m)\u001b[0m\u001b[0;34m:\u001b[0m\u001b[0;34m\u001b[0m\u001b[0;34m\u001b[0m\u001b[0m\n\u001b[0;32m-> 1147\u001b[0;31m               \u001b[0;32mraise\u001b[0m \u001b[0me\u001b[0m\u001b[0;34m.\u001b[0m\u001b[0mag_error_metadata\u001b[0m\u001b[0;34m.\u001b[0m\u001b[0mto_exception\u001b[0m\u001b[0;34m(\u001b[0m\u001b[0me\u001b[0m\u001b[0;34m)\u001b[0m\u001b[0;34m\u001b[0m\u001b[0;34m\u001b[0m\u001b[0m\n\u001b[0m\u001b[1;32m   1148\u001b[0m             \u001b[0;32melse\u001b[0m\u001b[0;34m:\u001b[0m\u001b[0;34m\u001b[0m\u001b[0;34m\u001b[0m\u001b[0m\n\u001b[1;32m   1149\u001b[0m               \u001b[0;32mraise\u001b[0m\u001b[0;34m\u001b[0m\u001b[0;34m\u001b[0m\u001b[0m\n",
            "\u001b[0;31mValueError\u001b[0m: in user code:\n\n    File \"/usr/local/lib/python3.7/dist-packages/keras/engine/training.py\", line 1801, in predict_function  *\n        return step_function(self, iterator)\n    File \"/usr/local/lib/python3.7/dist-packages/keras/engine/training.py\", line 1790, in step_function  **\n        outputs = model.distribute_strategy.run(run_step, args=(data,))\n    File \"/usr/local/lib/python3.7/dist-packages/keras/engine/training.py\", line 1783, in run_step  **\n        outputs = model.predict_step(data)\n    File \"/usr/local/lib/python3.7/dist-packages/keras/engine/training.py\", line 1751, in predict_step\n        return self(x, training=False)\n    File \"/usr/local/lib/python3.7/dist-packages/keras/utils/traceback_utils.py\", line 67, in error_handler\n        raise e.with_traceback(filtered_tb) from None\n    File \"/usr/local/lib/python3.7/dist-packages/keras/engine/input_spec.py\", line 264, in assert_input_compatibility\n        raise ValueError(f'Input {input_index} of layer \"{layer_name}\" is '\n\n    ValueError: Input 0 of layer \"model\" is incompatible with the layer: expected shape=(None, 256, 256, 3), found shape=(32, 256, 3)\n"
          ]
        }
      ]
    },
    {
      "cell_type": "code",
      "source": [
        "temp=plt.imread('/content/drive/MyDrive/Colab Notebooks/Dataset_BUSI_with_GT/malignant/malignant (1).png')"
      ],
      "metadata": {
        "id": "WUufC7jDBu5S"
      },
      "execution_count": null,
      "outputs": []
    },
    {
      "cell_type": "code",
      "source": [
        "temp.shape"
      ],
      "metadata": {
        "colab": {
          "base_uri": "https://localhost:8080/"
        },
        "id": "sG2EfaWtCmGR",
        "outputId": "c73990c2-50f8-4308-afe4-e7e284a61add"
      },
      "execution_count": null,
      "outputs": [
        {
          "output_type": "execute_result",
          "data": {
            "text/plain": [
              "(598, 449, 3)"
            ]
          },
          "metadata": {},
          "execution_count": 24
        }
      ]
    },
    {
      "cell_type": "code",
      "source": [
        "temp = cv2.resize(temp, (256, 256)) \n",
        "temp.shape"
      ],
      "metadata": {
        "colab": {
          "base_uri": "https://localhost:8080/"
        },
        "id": "0HhvKUSLCo95",
        "outputId": "ce3b50fe-d73e-4572-f0c8-91bfcb7fd7eb"
      },
      "execution_count": null,
      "outputs": [
        {
          "output_type": "execute_result",
          "data": {
            "text/plain": [
              "(256, 256, 3)"
            ]
          },
          "metadata": {},
          "execution_count": 25
        }
      ]
    },
    {
      "cell_type": "code",
      "source": [
        "temp1=np.array(temp)"
      ],
      "metadata": {
        "id": "4W9qexkTC5XQ"
      },
      "execution_count": null,
      "outputs": []
    },
    {
      "cell_type": "code",
      "source": [
        "len(temp1)"
      ],
      "metadata": {
        "colab": {
          "base_uri": "https://localhost:8080/"
        },
        "id": "1jDTdDwEDT2g",
        "outputId": "5aaaccde-11fd-4873-f388-1928fbeafe98"
      },
      "execution_count": null,
      "outputs": [
        {
          "output_type": "execute_result",
          "data": {
            "text/plain": [
              "256"
            ]
          },
          "metadata": {},
          "execution_count": 29
        }
      ]
    },
    {
      "cell_type": "code",
      "source": [
        "pre=myTransformer.predict(temp)"
      ],
      "metadata": {
        "colab": {
          "base_uri": "https://localhost:8080/",
          "height": 572
        },
        "id": "EIfpExo2DArJ",
        "outputId": "7cebc795-1b7f-4bce-a23b-ce976e25b498"
      },
      "execution_count": null,
      "outputs": [
        {
          "output_type": "error",
          "ename": "ValueError",
          "evalue": "ignored",
          "traceback": [
            "\u001b[0;31m---------------------------------------------------------------------------\u001b[0m",
            "\u001b[0;31mValueError\u001b[0m                                Traceback (most recent call last)",
            "\u001b[0;32m<ipython-input-30-b1a44747840b>\u001b[0m in \u001b[0;36m<module>\u001b[0;34m()\u001b[0m\n\u001b[0;32m----> 1\u001b[0;31m \u001b[0mpre\u001b[0m\u001b[0;34m=\u001b[0m\u001b[0mmyTransformer\u001b[0m\u001b[0;34m.\u001b[0m\u001b[0mpredict\u001b[0m\u001b[0;34m(\u001b[0m\u001b[0mtemp\u001b[0m\u001b[0;34m)\u001b[0m\u001b[0;34m\u001b[0m\u001b[0;34m\u001b[0m\u001b[0m\n\u001b[0m",
            "\u001b[0;32m/usr/local/lib/python3.7/dist-packages/keras/utils/traceback_utils.py\u001b[0m in \u001b[0;36merror_handler\u001b[0;34m(*args, **kwargs)\u001b[0m\n\u001b[1;32m     65\u001b[0m     \u001b[0;32mexcept\u001b[0m \u001b[0mException\u001b[0m \u001b[0;32mas\u001b[0m \u001b[0me\u001b[0m\u001b[0;34m:\u001b[0m  \u001b[0;31m# pylint: disable=broad-except\u001b[0m\u001b[0;34m\u001b[0m\u001b[0;34m\u001b[0m\u001b[0m\n\u001b[1;32m     66\u001b[0m       \u001b[0mfiltered_tb\u001b[0m \u001b[0;34m=\u001b[0m \u001b[0m_process_traceback_frames\u001b[0m\u001b[0;34m(\u001b[0m\u001b[0me\u001b[0m\u001b[0;34m.\u001b[0m\u001b[0m__traceback__\u001b[0m\u001b[0;34m)\u001b[0m\u001b[0;34m\u001b[0m\u001b[0;34m\u001b[0m\u001b[0m\n\u001b[0;32m---> 67\u001b[0;31m       \u001b[0;32mraise\u001b[0m \u001b[0me\u001b[0m\u001b[0;34m.\u001b[0m\u001b[0mwith_traceback\u001b[0m\u001b[0;34m(\u001b[0m\u001b[0mfiltered_tb\u001b[0m\u001b[0;34m)\u001b[0m \u001b[0;32mfrom\u001b[0m \u001b[0;32mNone\u001b[0m\u001b[0;34m\u001b[0m\u001b[0;34m\u001b[0m\u001b[0m\n\u001b[0m\u001b[1;32m     68\u001b[0m     \u001b[0;32mfinally\u001b[0m\u001b[0;34m:\u001b[0m\u001b[0;34m\u001b[0m\u001b[0;34m\u001b[0m\u001b[0m\n\u001b[1;32m     69\u001b[0m       \u001b[0;32mdel\u001b[0m \u001b[0mfiltered_tb\u001b[0m\u001b[0;34m\u001b[0m\u001b[0;34m\u001b[0m\u001b[0m\n",
            "\u001b[0;32m/usr/local/lib/python3.7/dist-packages/tensorflow/python/framework/func_graph.py\u001b[0m in \u001b[0;36mautograph_handler\u001b[0;34m(*args, **kwargs)\u001b[0m\n\u001b[1;32m   1145\u001b[0m           \u001b[0;32mexcept\u001b[0m \u001b[0mException\u001b[0m \u001b[0;32mas\u001b[0m \u001b[0me\u001b[0m\u001b[0;34m:\u001b[0m  \u001b[0;31m# pylint:disable=broad-except\u001b[0m\u001b[0;34m\u001b[0m\u001b[0;34m\u001b[0m\u001b[0m\n\u001b[1;32m   1146\u001b[0m             \u001b[0;32mif\u001b[0m \u001b[0mhasattr\u001b[0m\u001b[0;34m(\u001b[0m\u001b[0me\u001b[0m\u001b[0;34m,\u001b[0m \u001b[0;34m\"ag_error_metadata\"\u001b[0m\u001b[0;34m)\u001b[0m\u001b[0;34m:\u001b[0m\u001b[0;34m\u001b[0m\u001b[0;34m\u001b[0m\u001b[0m\n\u001b[0;32m-> 1147\u001b[0;31m               \u001b[0;32mraise\u001b[0m \u001b[0me\u001b[0m\u001b[0;34m.\u001b[0m\u001b[0mag_error_metadata\u001b[0m\u001b[0;34m.\u001b[0m\u001b[0mto_exception\u001b[0m\u001b[0;34m(\u001b[0m\u001b[0me\u001b[0m\u001b[0;34m)\u001b[0m\u001b[0;34m\u001b[0m\u001b[0;34m\u001b[0m\u001b[0m\n\u001b[0m\u001b[1;32m   1148\u001b[0m             \u001b[0;32melse\u001b[0m\u001b[0;34m:\u001b[0m\u001b[0;34m\u001b[0m\u001b[0;34m\u001b[0m\u001b[0m\n\u001b[1;32m   1149\u001b[0m               \u001b[0;32mraise\u001b[0m\u001b[0;34m\u001b[0m\u001b[0;34m\u001b[0m\u001b[0m\n",
            "\u001b[0;31mValueError\u001b[0m: in user code:\n\n    File \"/usr/local/lib/python3.7/dist-packages/keras/engine/training.py\", line 1801, in predict_function  *\n        return step_function(self, iterator)\n    File \"/usr/local/lib/python3.7/dist-packages/keras/engine/training.py\", line 1790, in step_function  **\n        outputs = model.distribute_strategy.run(run_step, args=(data,))\n    File \"/usr/local/lib/python3.7/dist-packages/keras/engine/training.py\", line 1783, in run_step  **\n        outputs = model.predict_step(data)\n    File \"/usr/local/lib/python3.7/dist-packages/keras/engine/training.py\", line 1751, in predict_step\n        return self(x, training=False)\n    File \"/usr/local/lib/python3.7/dist-packages/keras/utils/traceback_utils.py\", line 67, in error_handler\n        raise e.with_traceback(filtered_tb) from None\n    File \"/usr/local/lib/python3.7/dist-packages/keras/engine/input_spec.py\", line 264, in assert_input_compatibility\n        raise ValueError(f'Input {input_index} of layer \"{layer_name}\" is '\n\n    ValueError: Input 0 of layer \"model\" is incompatible with the layer: expected shape=(None, 256, 256, 3), found shape=(32, 256, 3)\n"
          ]
        }
      ]
    },
    {
      "cell_type": "code",
      "source": [
        "myTransformer.save('/content/drive/MyDrive/Colab Notebooks/Dataset_BUSI_with_GT/BreastCancerSegmentor.h5')"
      ],
      "metadata": {
        "id": "zflRIMCPFNHc"
      },
      "execution_count": null,
      "outputs": []
    },
    {
      "cell_type": "code",
      "source": [
        "model_cancer = tf.keras.models.load_model('/content/drive/MyDrive/Colab Notebooks/Dataset_BUSI_with_GT/BreastCancerSegmentor.h5')"
      ],
      "metadata": {
        "id": "iqoksNhAhqJo"
      },
      "execution_count": null,
      "outputs": []
    },
    {
      "cell_type": "code",
      "source": [
        "model_cancer_class=tf.keras.models.load_model('/content/drive/MyDrive/Colab Notebooks/Dataset_BUSI_with_GT/classifier_cancer_breast.h5')"
      ],
      "metadata": {
        "id": "lFQ4VgkgleJ-"
      },
      "execution_count": null,
      "outputs": []
    },
    {
      "cell_type": "code",
      "source": [
        "def image_segmenter(imgpath):\n",
        "  img=plt.imread(imgpath)\n",
        "  img=cv2.resize(img,(256,256))\n",
        "  img=np.expand_dims(img,axis=0)\n",
        "  affected_tissue=model_cancer.predict(np.array(img))\n",
        "  class_cancer=model_cancer_class.predict(np.array(img))\n",
        "  return affected_tissue,class_cancer"
      ],
      "metadata": {
        "id": "-2nMRpYxkSv0"
      },
      "execution_count": null,
      "outputs": []
    },
    {
      "cell_type": "code",
      "source": [
        "cancer_classifier_model.save('/content/drive/MyDrive/Colab Notebooks/Dataset_BUSI_with_GT/classifier_cancer_breast.h5')"
      ],
      "metadata": {
        "id": "53pduQP7lnzc"
      },
      "execution_count": null,
      "outputs": []
    },
    {
      "cell_type": "code",
      "source": [
        "segmented,cls=image_segmenter('/content/drive/MyDrive/Colab Notebooks/Dataset_BUSI_with_GT/benign/benign (10).png')"
      ],
      "metadata": {
        "id": "vjixaZiFl0yr"
      },
      "execution_count": null,
      "outputs": []
    },
    {
      "cell_type": "code",
      "source": [
        "cls.argmax()"
      ],
      "metadata": {
        "colab": {
          "base_uri": "https://localhost:8080/"
        },
        "id": "n4lczrcxmxJO",
        "outputId": "d7dd0d64-b4a3-4ef3-fbb3-90d8dacb8d3a"
      },
      "execution_count": null,
      "outputs": [
        {
          "output_type": "execute_result",
          "data": {
            "text/plain": [
              "1"
            ]
          },
          "metadata": {},
          "execution_count": 10
        }
      ]
    },
    {
      "cell_type": "code",
      "source": [
        "plt.imshow(segmented[0][:,:,0])\n",
        "print(cls.argmax())"
      ],
      "metadata": {
        "colab": {
          "base_uri": "https://localhost:8080/",
          "height": 286
        },
        "id": "EB0XnBp1mL_w",
        "outputId": "3d35123b-7720-4e61-ba74-0073b9d49cce"
      },
      "execution_count": null,
      "outputs": [
        {
          "output_type": "stream",
          "name": "stdout",
          "text": [
            "1\n"
          ]
        },
        {
          "output_type": "display_data",
          "data": {
            "text/plain": [
              "<Figure size 432x288 with 1 Axes>"
            ],
            "image/png": "[encoded data removed]"
          },
          "metadata": {
            "needs_background": "light"
          }
        }
      ]
    }
  ]
}